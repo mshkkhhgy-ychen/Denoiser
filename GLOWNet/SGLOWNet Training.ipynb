{
 "cells": [
  {
   "cell_type": "code",
   "execution_count": null,
   "metadata": {
    "colab": {
     "base_uri": "https://localhost:8080/"
    },
    "id": "poxUDNOaoywR",
    "outputId": "6599e51c-f756-45f1-da8a-ef5c1b373565"
   },
   "outputs": [],
   "source": [
    "%load_ext autoreload\n",
    "%autoreload 2"
   ]
  },
  {
   "cell_type": "code",
   "execution_count": null,
   "metadata": {
    "colab": {
     "base_uri": "https://localhost:8080/"
    },
    "id": "Qmk3zTM9k155",
    "outputId": "6318a004-84aa-4148-d19e-842131c1d6f0"
   },
   "outputs": [],
   "source": [
    "from google.colab import drive\n",
    "drive.mount('/content/drive')"
   ]
  },
  {
   "cell_type": "code",
   "execution_count": null,
   "metadata": {
    "colab": {
     "base_uri": "https://localhost:8080/",
     "height": 1000
    },
    "collapsed": true,
    "id": "_Sn8FfNWmMeH",
    "outputId": "bd2586ae-2728-42b1-9f98-6c5b15ce5ce0"
   },
   "outputs": [],
   "source": [
    "!pip install torch==2.1.0 torchvision==0.16.0 torchaudio==2.1.0 --index-url https://download.pytorch.org/whl/cu121\n",
    "!pip install -U openmim\n",
    "!mim install mmcv==1.4.0\n",
    "!pip install pytorch_msssim\n",
    "!pip install tensorboardX\n",
    "!pip install thop\n",
    "!pip install lpips"
   ]
  },
  {
   "cell_type": "code",
   "execution_count": null,
   "metadata": {
    "colab": {
     "base_uri": "https://localhost:8080/"
    },
    "collapsed": true,
    "id": "HLmk78XuXSpL",
    "outputId": "571f4393-a9db-4a01-8a32-da2c9bf3e79f"
   },
   "outputs": [],
   "source": [
    "# path to training directory, which should contain the 'model' directory\n",
    "#%cd /content/drive/MyDrive/SGVCA/\n",
    "\n",
    "!torchrun --nnodes=1 --nproc_per_node=1 train_bf16_ddp_S.py"
   ]
  }
 ],
 "metadata": {
  "accelerator": "GPU",
  "colab": {
   "gpuType": "A100",
   "provenance": []
  },
  "kernelspec": {
   "display_name": "Python 3",
   "name": "python3"
  },
  "language_info": {
   "name": "python"
  }
 },
 "nbformat": 4,
 "nbformat_minor": 0
}
