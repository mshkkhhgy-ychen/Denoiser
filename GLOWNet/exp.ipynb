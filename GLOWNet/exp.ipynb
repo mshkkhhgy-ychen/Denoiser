{
 "cells": [
  {
   "cell_type": "code",
   "execution_count": 1,
   "metadata": {},
   "outputs": [
    {
     "name": "stderr",
     "output_type": "stream",
     "text": [
      "/home/michael_du_aiml/miniconda3/envs/dl-vis/lib/python3.12/site-packages/torch/functional.py:513: UserWarning: torch.meshgrid: in an upcoming release, it will be required to pass the indexing argument. (Triggered internally at ../aten/src/ATen/native/TensorShape.cpp:3609.)\n",
      "  return _VF.meshgrid(tensors, **kwargs)  # type: ignore[attr-defined]\n"
     ]
    }
   ],
   "source": [
    "%load_ext autoreload\n",
    "%autoreload 2\n",
    "\n",
    "import torch \n",
    "import torch.nn as nn \n",
    "from model.SUNet_detail import *\n",
    "from model.swin_basiclayer import BasicLayerWithContext, BasicLayerUpWithContext\n",
    "from model.gc_basiclayer import DownsamplingBlock, GCUpSample\n",
    "\n",
    "pe = PatchEmbed(\n",
    "        256, 4, 3, 96\n",
    ")\n",
    "\n",
    "img = torch.rand(4, 3, 256, 256)\n",
    "gc_img = torch.rand(4, 96, 256, 256)\n",
    "sw = BasicLayerWithContext(\n",
    "    96, pe.patches_resolution, 4, 8, 8, downsample=PatchMerging, gc_downsample=DownsamplingBlock\n",
    ")\n",
    "\n"
   ]
  },
  {
   "cell_type": "code",
   "execution_count": 2,
   "metadata": {},
   "outputs": [],
   "source": [
    "sample = pe(img)\n",
    "x, gc_x = sw(sample, gc_img)"
   ]
  },
  {
   "cell_type": "code",
   "execution_count": 3,
   "metadata": {},
   "outputs": [
    {
     "data": {
      "text/plain": [
       "torch.Size([4, 1024, 192])"
      ]
     },
     "execution_count": 3,
     "metadata": {},
     "output_type": "execute_result"
    }
   ],
   "source": [
    "x.shape"
   ]
  },
  {
   "cell_type": "code",
   "execution_count": 4,
   "metadata": {},
   "outputs": [
    {
     "data": {
      "text/plain": [
       "torch.Size([4, 192, 128, 128])"
      ]
     },
     "execution_count": 4,
     "metadata": {},
     "output_type": "execute_result"
    }
   ],
   "source": [
    "gc_x.shape"
   ]
  },
  {
   "cell_type": "code",
   "execution_count": 5,
   "metadata": {},
   "outputs": [],
   "source": [
    "swu = BasicLayerUpWithContext(\n",
    "    192, (\n",
    "        pe.patches_resolution[0] // (2 ** 1),\n",
    "        pe.patches_resolution[1] // (2 ** 1)\n",
    "    ), 4, 8, 8, upsample=UpSample, gc_upsample=GCUpSample\n",
    ")\n",
    "\n",
    "x, gc_x = swu(x, gc_x)"
   ]
  },
  {
   "cell_type": "code",
   "execution_count": 6,
   "metadata": {},
   "outputs": [
    {
     "data": {
      "text/plain": [
       "(torch.Size([4, 4096, 96]), torch.Size([4, 96, 256, 256]))"
      ]
     },
     "execution_count": 6,
     "metadata": {},
     "output_type": "execute_result"
    }
   ],
   "source": [
    "x.shape, gc_x.shape"
   ]
  },
  {
   "cell_type": "code",
   "execution_count": null,
   "metadata": {},
   "outputs": [],
   "source": [
    "from model.SUNet import SUNet_model\n",
    "\n"
   ]
  }
 ],
 "metadata": {
  "kernelspec": {
   "display_name": "dl-vis",
   "language": "python",
   "name": "python3"
  },
  "language_info": {
   "codemirror_mode": {
    "name": "ipython",
    "version": 3
   },
   "file_extension": ".py",
   "mimetype": "text/x-python",
   "name": "python",
   "nbconvert_exporter": "python",
   "pygments_lexer": "ipython3",
   "version": "3.12.5"
  }
 },
 "nbformat": 4,
 "nbformat_minor": 2
}
