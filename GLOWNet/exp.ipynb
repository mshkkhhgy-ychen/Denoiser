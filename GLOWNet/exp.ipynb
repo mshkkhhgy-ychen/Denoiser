{
 "cells": [
  {
   "cell_type": "code",
   "execution_count": null,
   "metadata": {},
   "outputs": [
    {
     "name": "stderr",
     "output_type": "stream",
     "text": [
      "/home/michael_du_aiml/miniconda3/envs/dl-vis/lib/python3.12/site-packages/torch/functional.py:513: UserWarning: torch.meshgrid: in an upcoming release, it will be required to pass the indexing argument. (Triggered internally at ../aten/src/ATen/native/TensorShape.cpp:3609.)\n",
      "  return _VF.meshgrid(tensors, **kwargs)  # type: ignore[attr-defined]\n"
     ]
    },
    {
     "name": "stdout",
     "output_type": "stream",
     "text": [
      "Parameter swin_unet.prelu.weight was not used in the forward pass.\n",
      "Parameter swin_unet.conv_first.weight was not used in the forward pass.\n"
     ]
    },
    {
     "ename": "RuntimeError",
     "evalue": "output with shape [1] doesn't match the broadcast shape [96, 3, 3, 3]",
     "output_type": "error",
     "traceback": [
      "\u001b[0;31m---------------------------------------------------------------------------\u001b[0m",
      "\u001b[0;31mRuntimeError\u001b[0m                              Traceback (most recent call last)",
      "Cell \u001b[0;32mIn[1], line 28\u001b[0m\n\u001b[1;32m     26\u001b[0m             \u001b[38;5;28mprint\u001b[39m(\u001b[38;5;124mf\u001b[39m\u001b[38;5;124m\"\u001b[39m\u001b[38;5;124mParameter \u001b[39m\u001b[38;5;132;01m{\u001b[39;00mname\u001b[38;5;132;01m}\u001b[39;00m\u001b[38;5;124m was not used in the forward pass.\u001b[39m\u001b[38;5;124m\"\u001b[39m)\n\u001b[1;32m     27\u001b[0m         names\u001b[38;5;241m.\u001b[39mappend(name)\n\u001b[0;32m---> 28\u001b[0m         \u001b[43mparams\u001b[49m\u001b[43m \u001b[49m\u001b[38;5;241;43m+\u001b[39;49m\u001b[38;5;241;43m=\u001b[39;49m\u001b[43m \u001b[49m\u001b[43mparam\u001b[49m \n\u001b[1;32m     29\u001b[0m         cnt \u001b[38;5;241m+\u001b[39m\u001b[38;5;241m=\u001b[39m \u001b[38;5;241m1\u001b[39m\n\u001b[1;32m     31\u001b[0m p_number \u001b[38;5;241m=\u001b[39m network_parameters(model)\n",
      "\u001b[0;31mRuntimeError\u001b[0m: output with shape [1] doesn't match the broadcast shape [96, 3, 3, 3]"
     ]
    }
   ],
   "source": [
    "%load_ext autoreload\n",
    "%autoreload 2\n",
    "\n",
    "import torch \n",
    "import torch.nn as nn \n",
    "from model.SUNet import SUNet_model, GLOWNet_model\n",
    "from utils import network_parameters\n",
    "import yaml \n",
    "## Set Seeds\n",
    "torch.backends.cudnn.benchmark = True\n",
    "\n",
    "torch.manual_seed(1234)\n",
    "torch.cuda.manual_seed_all(1234)\n",
    "\n",
    "## Load yaml configuration file\n",
    "with open('training.yaml', 'r') as config:\n",
    "    opt = yaml.safe_load(config)\n",
    "\n",
    "model = GLOWNet_model(opt).cuda() \n",
    "names = []\n",
    "params = 0\n",
    "cnt = 0\n",
    "for name, param in model.named_parameters():\n",
    "    if param.grad is None:\n",
    "        if cnt <= 20:\n",
    "            print(f\"Parameter {name} was not used in the forward pass.\")\n",
    "        names.append(name)\n",
    "        params += param.numel()\n",
    "        cnt += 1\n",
    "\n",
    "p_number = network_parameters(model)\n",
    "\n",
    "print(f'{params} / {p_number} is not used first')\n",
    "\n",
    "\n"
   ]
  },
  {
   "cell_type": "code",
   "execution_count": 2,
   "metadata": {},
   "outputs": [],
   "source": [
    "sample = pe(img)\n",
    "x, gc_x = sw(sample, gc_img)"
   ]
  },
  {
   "cell_type": "code",
   "execution_count": 3,
   "metadata": {},
   "outputs": [
    {
     "data": {
      "text/plain": [
       "torch.Size([4, 1024, 192])"
      ]
     },
     "execution_count": 3,
     "metadata": {},
     "output_type": "execute_result"
    }
   ],
   "source": [
    "x.shape"
   ]
  },
  {
   "cell_type": "code",
   "execution_count": 4,
   "metadata": {},
   "outputs": [
    {
     "data": {
      "text/plain": [
       "torch.Size([4, 192, 128, 128])"
      ]
     },
     "execution_count": 4,
     "metadata": {},
     "output_type": "execute_result"
    }
   ],
   "source": [
    "gc_x.shape"
   ]
  },
  {
   "cell_type": "code",
   "execution_count": 5,
   "metadata": {},
   "outputs": [],
   "source": [
    "swu = BasicLayerUpWithContext(\n",
    "    192, (\n",
    "        pe.patches_resolution[0] // (2 ** 1),\n",
    "        pe.patches_resolution[1] // (2 ** 1)\n",
    "    ), 4, 8, 8, upsample=UpSample, gc_upsample=GCUpSample\n",
    ")\n",
    "\n",
    "x, gc_x = swu(x, gc_x)"
   ]
  },
  {
   "cell_type": "code",
   "execution_count": 6,
   "metadata": {},
   "outputs": [
    {
     "data": {
      "text/plain": [
       "(torch.Size([4, 4096, 96]), torch.Size([4, 96, 256, 256]))"
      ]
     },
     "execution_count": 6,
     "metadata": {},
     "output_type": "execute_result"
    }
   ],
   "source": [
    "x.shape, gc_x.shape"
   ]
  },
  {
   "cell_type": "code",
   "execution_count": null,
   "metadata": {},
   "outputs": [],
   "source": [
    "from model.SUNet import SUNet_model\n",
    "\n"
   ]
  }
 ],
 "metadata": {
  "kernelspec": {
   "display_name": "dl-vis",
   "language": "python",
   "name": "python3"
  },
  "language_info": {
   "codemirror_mode": {
    "name": "ipython",
    "version": 3
   },
   "file_extension": ".py",
   "mimetype": "text/x-python",
   "name": "python",
   "nbconvert_exporter": "python",
   "pygments_lexer": "ipython3",
   "version": "3.12.5"
  }
 },
 "nbformat": 4,
 "nbformat_minor": 2
}
