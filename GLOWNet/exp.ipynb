{
 "cells": [
  {
   "cell_type": "code",
   "execution_count": 9,
   "metadata": {},
   "outputs": [
    {
     "name": "stdout",
     "output_type": "stream",
     "text": [
      "The autoreload extension is already loaded. To reload it, use:\n",
      "  %reload_ext autoreload\n"
     ]
    }
   ],
   "source": [
    "%load_ext autoreload\n",
    "%autoreload 2\n",
    "\n",
    "import torch \n",
    "import torch.nn as nn \n",
    "from model.SUNet_detail import *\n",
    "from model.swin_basiclayer import BasicLayerWithContext, BasicLayerUpWithContext\n",
    "from model.gc_basiclayer import DownsamplingBlock\n",
    "\n",
    "pe = PatchEmbed(\n",
    "        256, 4, 3, 96\n",
    ")\n",
    "\n",
    "img = torch.rand(4, 3, 256, 256)\n",
    "gc_img = torch.rand(4, 96, 256, 256)\n",
    "sw = BasicLayerWithContext(\n",
    "    96, pe.patches_resolution, 4, 8, 8, downsample=PatchMerging, gc_downsample=DownsamplingBlock\n",
    ")\n",
    "\n"
   ]
  },
  {
   "cell_type": "code",
   "execution_count": 11,
   "metadata": {},
   "outputs": [],
   "source": [
    "sample = pe(img)\n",
    "x, gc_x = sw(sample, gc_img)"
   ]
  },
  {
   "cell_type": "code",
   "execution_count": 12,
   "metadata": {},
   "outputs": [
    {
     "data": {
      "text/plain": [
       "torch.Size([4, 1024, 192])"
      ]
     },
     "execution_count": 12,
     "metadata": {},
     "output_type": "execute_result"
    }
   ],
   "source": [
    "x.shape"
   ]
  },
  {
   "cell_type": "code",
   "execution_count": 14,
   "metadata": {},
   "outputs": [
    {
     "data": {
      "text/plain": [
       "torch.Size([4, 192, 128, 128])"
      ]
     },
     "execution_count": 14,
     "metadata": {},
     "output_type": "execute_result"
    }
   ],
   "source": [
    "gc_x.shape"
   ]
  }
 ],
 "metadata": {
  "kernelspec": {
   "display_name": "dl-vis",
   "language": "python",
   "name": "python3"
  },
  "language_info": {
   "codemirror_mode": {
    "name": "ipython",
    "version": 3
   },
   "file_extension": ".py",
   "mimetype": "text/x-python",
   "name": "python",
   "nbconvert_exporter": "python",
   "pygments_lexer": "ipython3",
   "version": "3.12.5"
  }
 },
 "nbformat": 4,
 "nbformat_minor": 2
}
