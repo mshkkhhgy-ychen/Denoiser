{
 "cells": [
  {
   "cell_type": "code",
   "execution_count": 13,
   "metadata": {},
   "outputs": [
    {
     "name": "stdout",
     "output_type": "stream",
     "text": [
      "The autoreload extension is already loaded. To reload it, use:\n",
      "  %reload_ext autoreload\n"
     ]
    }
   ],
   "source": [
    "%load_ext autoreload\n",
    "%autoreload 2\n",
    "\n",
    "import torch \n",
    "import torch.nn as nn \n",
    "\n",
    "from model.SUNet_detail import *\n",
    "from model.gc_basiclayer import * \n",
    "\n",
    "pe = PatchEmbed(\n",
    "        256, 4, 3, 96\n",
    ")\n",
    "\n",
    "img = torch.rand(4, 3, 256, 256)\n",
    "\n",
    "sw = BasicLayer(\n",
    "        96, pe.patches_resolution, 4, 8, 8, downsample=PatchMerging\n",
    ")\n",
    "\n",
    "gc = GlobalContextBasicLayer(\n",
    "        96, 2, DownsamplingBlock\n",
    ")\n"
   ]
  },
  {
   "cell_type": "code",
   "execution_count": 14,
   "metadata": {},
   "outputs": [
    {
     "data": {
      "text/plain": [
       "torch.Size([4, 1024, 192])"
      ]
     },
     "execution_count": 14,
     "metadata": {},
     "output_type": "execute_result"
    }
   ],
   "source": [
    "sample = pe(img)\n",
    "swe = sw(sample)\n",
    "swe.shape"
   ]
  },
  {
   "cell_type": "code",
   "execution_count": 15,
   "metadata": {},
   "outputs": [
    {
     "data": {
      "text/plain": [
       "torch.Size([4, 192, 128, 128])"
      ]
     },
     "execution_count": 15,
     "metadata": {},
     "output_type": "execute_result"
    }
   ],
   "source": [
    "gc_sample = gc(nn.Conv2d(3, 96, 3, 1, 1)(img))\n",
    "gc_sample.shape"
   ]
  },
  {
   "cell_type": "code",
   "execution_count": 16,
   "metadata": {},
   "outputs": [
    {
     "data": {
      "text/plain": [
       "torch.Size([4, 1024, 192])"
      ]
     },
     "execution_count": 16,
     "metadata": {},
     "output_type": "execute_result"
    }
   ],
   "source": [
    "ca = CrossAttentionLayer(\n",
    "        192, 192, 8\n",
    ")\n",
    "\n",
    "out = ca(swe, gc_sample)\n",
    "out.shape"
   ]
  }
 ],
 "metadata": {
  "kernelspec": {
   "display_name": "dl-vis",
   "language": "python",
   "name": "python3"
  },
  "language_info": {
   "codemirror_mode": {
    "name": "ipython",
    "version": 3
   },
   "file_extension": ".py",
   "mimetype": "text/x-python",
   "name": "python",
   "nbconvert_exporter": "python",
   "pygments_lexer": "ipython3",
   "version": "3.12.5"
  }
 },
 "nbformat": 4,
 "nbformat_minor": 2
}
