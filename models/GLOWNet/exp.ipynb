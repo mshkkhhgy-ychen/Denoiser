{
 "cells": [
  {
   "cell_type": "code",
   "execution_count": 3,
   "metadata": {},
   "outputs": [
    {
     "name": "stdout",
     "output_type": "stream",
     "text": [
      "The autoreload extension is already loaded. To reload it, use:\n",
      "  %reload_ext autoreload\n",
      "115900756 / 115900756 is used first\n"
     ]
    }
   ],
   "source": [
    "%load_ext autoreload\n",
    "%autoreload 2\n",
    "\n",
    "import torch \n",
    "import torch.nn as nn \n",
    "from model.SUNet import SUNet_model, GLOWNet_model\n",
    "from utils import network_parameters\n",
    "import yaml \n",
    "## Set Seeds\n",
    "torch.backends.cudnn.benchmark = True\n",
    "\n",
    "torch.manual_seed(1234)\n",
    "torch.cuda.manual_seed_all(1234)\n",
    "\n",
    "## Load yaml configuration file\n",
    "with open('training.yaml', 'r') as config:\n",
    "    opt = yaml.safe_load(config)\n",
    "\n",
    "model = GLOWNet_model(opt).cuda() \n",
    "model.train()\n",
    "names = []\n",
    "params = 0\n",
    "cnt = 0\n",
    "for name, param in model.named_parameters():\n",
    "    if param.requires_grad:\n",
    "        \n",
    "        names.append(name)\n",
    "        params += param.numel()\n",
    "        cnt += 1\n",
    "\n",
    "p_number = network_parameters(model)\n",
    "\n",
    "print(f'{params} / {p_number} is used first')\n",
    "\n",
    "\n"
   ]
  },
  {
   "cell_type": "code",
   "execution_count": null,
   "metadata": {},
   "outputs": [],
   "source": [
    "\n"
   ]
  }
 ],
 "metadata": {
  "kernelspec": {
   "display_name": "dl-vis",
   "language": "python",
   "name": "python3"
  },
  "language_info": {
   "codemirror_mode": {
    "name": "ipython",
    "version": 3
   },
   "file_extension": ".py",
   "mimetype": "text/x-python",
   "name": "python",
   "nbconvert_exporter": "python",
   "pygments_lexer": "ipython3",
   "version": "3.12.5"
  }
 },
 "nbformat": 4,
 "nbformat_minor": 2
}
